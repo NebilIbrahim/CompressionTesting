{
  "nbformat": 4,
  "nbformat_minor": 0,
  "metadata": {
    "colab": {
      "name": "CompressionStuff.ipynb",
      "provenance": [],
      "collapsed_sections": []
    },
    "kernelspec": {
      "name": "python3",
      "display_name": "Python 3"
    },
    "accelerator": "GPU"
  },
  "cells": [
    {
      "cell_type": "code",
      "metadata": {
        "id": "l0gx0h4gLjjU",
        "colab_type": "code",
        "colab": {}
      },
      "source": [
        "import numpy as np\n",
        "import tensorflow as tf\n",
        "import matplotlib.pyplot as plt\n",
        "import sklearn\n",
        "from tensorflow.keras.datasets import mnist\n",
        "from tensorflow.keras import datasets, layers, models\n",
        "from tensorflow.keras.layers import Conv2D, UpSampling2D, BatchNormalization, MaxPool2D, DenseFeatures\n",
        "from tensorflow.keras.models import Sequential\n",
        "import time\n",
        "import sys\n",
        "import cv2\n",
        "from skimage.transform import resize\n",
        "from sklearn.decomposition import PCA\n",
        "from tensorflow.keras.datasets import mnist\n",
        "from tensorflow.keras import datasets, layers, models\n",
        "from tensorflow.keras.datasets import cifar10\n",
        "\n",
        "(train_images, train_labels), (test_images, test_labels) = cifar10.load_data()\n",
        "\n"
      ],
      "execution_count": 0,
      "outputs": []
    },
    {
      "cell_type": "code",
      "metadata": {
        "id": "z3NzlhjS_wxE",
        "colab_type": "code",
        "outputId": "4771acc2-8302-4270-aac8-b7c624833ed3",
        "colab": {
          "base_uri": "https://localhost:8080/",
          "height": 34
        }
      },
      "source": [
        "print(\"Num GPUs Available: \", len(tf.config.experimental.list_physical_devices('GPU')))"
      ],
      "execution_count": 23,
      "outputs": [
        {
          "output_type": "stream",
          "text": [
            "Num GPUs Available:  1\n"
          ],
          "name": "stdout"
        }
      ]
    },
    {
      "cell_type": "code",
      "metadata": {
        "id": "OhcAXzndMt0F",
        "colab_type": "code",
        "colab": {}
      },
      "source": [
        "x_train = train_images/255\n",
        "x_test = test_images/255"
      ],
      "execution_count": 0,
      "outputs": []
    },
    {
      "cell_type": "code",
      "metadata": {
        "id": "ERewm0URMoY7",
        "colab_type": "code",
        "colab": {}
      },
      "source": [
        "class image_compression:\n",
        "\n",
        "    def __init__(self):\n",
        "      self.model = None\n",
        "    \n",
        "    def fit(self, X, Y, model_name):\n",
        "      pass\n",
        "\n",
        "    def load_model(self, model_name):\n",
        "      pass\n",
        "\n",
        "    def compress(self, X):\n",
        "      pass\n",
        "    \n",
        "    def decompress(self, X):\n",
        "      pass\n",
        "\n",
        "    def evaluate(self, X):\n",
        "      pass\n",
        "\n",
        "    def save_model(name):\n",
        "      pass\n",
        "    "
      ],
      "execution_count": 0,
      "outputs": []
    },
    {
      "cell_type": "code",
      "metadata": {
        "id": "nmxy2nPkGdiZ",
        "colab_type": "code",
        "colab": {}
      },
      "source": [
        "class Resize_compression(image_compression):\n",
        "\n",
        "  def __init__(self, percent, noise = 0, *args, **kwargs):\n",
        "    assert(percent > 0 and percent <= 1)\n",
        "    assert(noise >= 0)\n",
        "    self.percent = percent\n",
        "    self.noise = noise\n",
        "    self.compression = 1 / percent\n",
        "    super(Resize_compression, self).__init__(*args, **kwargs)\n",
        "  \n",
        "  def fit(self, X, Y, model_name):\n",
        "      pass\n",
        "\n",
        "  def load_model(self, model_name):\n",
        "      pass\n",
        "\n",
        "  def compress(self, X):\n",
        "      # def single_comp(x):\n",
        "      #   print(\"Yo\", x.shape)\n",
        "      #   shape = (int(self.percent * x.shape[0]), int(int(self.percent * x.shape[1])))\n",
        "      #   return resize(x, shape)\n",
        "      \n",
        "      # comp = np.vectorize(single_comp)\n",
        "      \n",
        "      if (noise != 0):\n",
        "        X += np.random.normal(0, self.noise, X.shape)\n",
        "      r_shape = (int(round(self.percent * X.shape[1])), int(round(self.percent * X.shape[2])))\n",
        "      # print(\"Compress:\", r_shape)\n",
        "      y = np.zeros((X.shape[0], r_shape[0], r_shape[1], X.shape[3]))\n",
        "      for i in range(0, X.shape[0]):\n",
        "        # print(X[i].shape)\n",
        "        y[i] = resize(X[i], r_shape)\n",
        "      return y\n",
        "    \n",
        "  def decompress(self, X):\n",
        "      inv = 1.0 / self.percent\n",
        "      \n",
        "      # def single_decomp(self, x):\n",
        "      #   shape = (int(inv * x.shape[0]), int(inv * x.shape[1]))\n",
        "      #   return resize(x, shape)\n",
        "      # decomp = np.vectorize(single_decomp)\n",
        "      # return decomp(X)\n",
        "\n",
        "      r_shape = (int(round(inv * X.shape[1])), int(round(inv * X.shape[2])))\n",
        "      # print(\"Decompress:\", r_shape)\n",
        "      y = np.zeros((X.shape[0], r_shape[0], r_shape[1], X.shape[3]))\n",
        "      for i in range(0, X.shape[0]):\n",
        "        # print(X[i].shape)\n",
        "        y[i] = resize(X[i], r_shape)\n",
        "      return y\n",
        "\n",
        "  def evaluate(self, X):\n",
        "      return self.decompress(self.compress(X))\n",
        "\n",
        "  def save_model(name):\n",
        "      pass"
      ],
      "execution_count": 0,
      "outputs": []
    },
    {
      "cell_type": "code",
      "metadata": {
        "id": "INvxe-0NYnmX",
        "colab_type": "code",
        "colab": {}
      },
      "source": [
        ""
      ],
      "execution_count": 0,
      "outputs": []
    },
    {
      "cell_type": "code",
      "metadata": {
        "id": "ylxqgVHwjB8r",
        "colab_type": "code",
        "colab": {}
      },
      "source": [
        ""
      ],
      "execution_count": 0,
      "outputs": []
    },
    {
      "cell_type": "code",
      "metadata": {
        "id": "IVFHaBQFMEwh",
        "colab_type": "code",
        "colab": {}
      },
      "source": [
        "class PCA_compression(image_compression):\n",
        "\n",
        "  def __init__(self, var_ratio, noise = 0, *args, **kwargs):\n",
        "    assert(var_ratio > 0 and var_ratio <= 1)\n",
        "    self.var_ratio = var_ratio\n",
        "    self.noise = noise\n",
        "    self.compression_factor = None\n",
        "    super(PCA_compression, self).__init__(*args, **kwargs)\n",
        "  \n",
        "  def fit(self, X, model_name = None):\n",
        "    pca = PCA(self.var_ratio)\n",
        "    if (noise != 0):\n",
        "      X += np.random.normal(0, self.noise, X.shape)\n",
        "    print(\"Training...\")\n",
        "    start = time.time()\n",
        "    pca.fit(X.reshape(X.shape[0], -1))\n",
        "    print(\"Elapsed Time:\", time.time() - start)\n",
        "    self.model = pca\n",
        "    self.compression = pca.n_features_ / pca.n_components_\n",
        "  \n",
        "  def load_model(*args, **kwargs):\n",
        "    pass\n",
        "\n",
        "  def compress(self, X):\n",
        "    return self.model.transform(X)\n",
        "\n",
        "  def decompress(self, X):\n",
        "    return self.model.inverse_transform(X)\n",
        "\n",
        "  def evaluate(self, X):\n",
        "    return self.decompress(self.compress(X.reshape(X.shape[0], -1))).reshape(X.shape)\n",
        "\n",
        "  def save_model(model):\n",
        "    pass"
      ],
      "execution_count": 0,
      "outputs": []
    },
    {
      "cell_type": "code",
      "metadata": {
        "id": "RM6Yq2siMtEl",
        "colab_type": "code",
        "colab": {}
      },
      "source": [
        "class ConvNetCompression8810(image_compression):\n",
        "  def __init__(self, X, Y, noise = 0, in_shape=(32,32,3), model_name=None):\n",
        "    assert(noise >= 0)\n",
        "    self.model = Sequential()\n",
        "    self.model.add(Conv2D(32, kernel_size=3, strides=1, padding='same', activation='relu', input_shape=in_shape))\n",
        "    self.model.add(BatchNormalization())     # 32x32x32\n",
        "    self.model.add(Conv2D(32, kernel_size=3, strides=2, padding='same', activation='relu'))      # 16x16x32 =2\n",
        "    self.model.add(Conv2D(10, kernel_size=3, strides=1, padding='same', activation='relu'))      # 16x16x32\n",
        "    self.model.add(Conv2D(10, kernel_size=3, strides=2, padding='same', activation='relu'))      # 8x8x32\n",
        "    self.model.add(BatchNormalization())     # 8x8x32\n",
        "    self.model.add(UpSampling2D())\n",
        "    self.model.add(BatchNormalization())     # 16x16x32\n",
        "    self.model.add(UpSampling2D())\n",
        "    self.model.add(Conv2D(32, kernel_size=3, strides=1, padding='same', activation='relu'))      # 32x32x32\n",
        "    self.model.add(BatchNormalization())\n",
        "    self.model.add(Conv2D(3,  kernel_size=1, strides=1, padding='same', activation='sigmoid'))   # 32x32x3\n",
        "\n",
        "    self.model.compile(optimizer='adam', metrics=['accuracy'], loss='mean_squared_error')\n",
        "    self.model.summary()\n",
        "    self.noise = noise\n",
        "    self.compression = 4.8\n",
        "    if model_name is not None:\n",
        "      try:\n",
        "        f = open(model_name)      \n",
        "        f.close()\n",
        "        self.load_model(model_name)\n",
        "      except IOError:\n",
        "        self.fit(X, Y, model_name)\n",
        "    else:\n",
        "      self.fit(X, Y, model_name)\n",
        "\n",
        "  \n",
        "  def fit(self, X, Y, model_name):\n",
        "    num_epochs = 5\n",
        "    # NOISE = 0.2     # Set to 0 for a regular (non-denoising...) autoencoder\n",
        "    for i in range(num_epochs):\n",
        "      if (self.noise != 0):\n",
        "        noisy_X = X + np.random.normal(0, self.noise, X.shape)\n",
        "        self.model.fit(noisy_X, Y, epochs=1, batch_size=128)\n",
        "      else:\n",
        "        self.model.fit(X, Y, epochs=1, batch_size=128)\n",
        "\n",
        "    self.model.save(model_name)\n",
        "\n",
        "  def load_model(self, model_name):\n",
        "    self.model.load_weights(model_name)\n",
        "\n",
        "  def compress(self, X):\n",
        "    pass\n",
        "\n",
        "  def decompress(self, X):\n",
        "    pass\n",
        "\n",
        "  def evaluate(self, X):\n",
        "    return self.model.predict(X)"
      ],
      "execution_count": 0,
      "outputs": []
    },
    {
      "cell_type": "code",
      "metadata": {
        "id": "1oHztIz8KAWP",
        "colab_type": "code",
        "colab": {}
      },
      "source": [
        "class ConvNetCompression8816(image_compression):\n",
        "  def __init__(self, X, Y, noise = 0, in_shape=(32,32,3), model_name=None):\n",
        "    assert(noise >= 0)\n",
        "    self.model = Sequential()\n",
        "    self.model.add(Conv2D(32, kernel_size=3, strides=1, padding='same', activation='relu', input_shape=in_shape))\n",
        "    self.model.add(BatchNormalization())     # 32x32x32\n",
        "    self.model.add(Conv2D(32, kernel_size=3, strides=2, padding='same', activation='relu'))      # 16x16x32 =2\n",
        "    self.model.add(Conv2D(16, kernel_size=3, strides=1, padding='same', activation='relu'))      # 16x16x32\n",
        "    self.model.add(Conv2D(16, kernel_size=3, strides=2, padding='same', activation='relu'))      # 8x8x32\n",
        "    self.model.add(BatchNormalization())     # 8x8x32\n",
        "    self.model.add(UpSampling2D())\n",
        "    self.model.add(BatchNormalization())     # 16x16x32\n",
        "    self.model.add(UpSampling2D())\n",
        "    self.model.add(Conv2D(32, kernel_size=3, strides=1, padding='same', activation='relu'))      # 32x32x32\n",
        "    self.model.add(BatchNormalization())\n",
        "    self.model.add(Conv2D(3,  kernel_size=1, strides=1, padding='same', activation='sigmoid'))   # 32x32x3\n",
        "\n",
        "    self.model.compile(optimizer='adam', metrics=['accuracy'], loss='mean_squared_error')\n",
        "    self.model.summary()\n",
        "    self.noise = noise\n",
        "    self.compression = 3\n",
        "    if model_name is not None:\n",
        "      try:\n",
        "        f = open(model_name)      \n",
        "        f.close()\n",
        "        self.load_model(model_name)\n",
        "      except IOError:\n",
        "        self.fit(X, Y, model_name)\n",
        "    else:\n",
        "      self.fit(X, Y, model_name)\n",
        "\n",
        "  \n",
        "  def fit(self, X, Y, model_name):\n",
        "    num_epochs = 5\n",
        "    # noise = 0.2     # Set to 0 for a regular (non-denoising...) autoencoder\n",
        "    for i in range(num_epochs):\n",
        "      if (self.noise != 0):\n",
        "        noisy_X = X + np.random.normal(0, self.noise, X.shape)\n",
        "        self.model.fit(noisy_X, X, epochs=1, batch_size=128)\n",
        "      else:\n",
        "        self.model.fit(X, X, epochs=1, batch_size=128)\n",
        "    \n",
        "    self.model.save(model_name)\n",
        "\n",
        "  def load_model(self, model_name):\n",
        "    self.model.load_weights(model_name)\n",
        "\n",
        "  def compress(self, X):\n",
        "    pass\n",
        "\n",
        "  def decompress(self, X):\n",
        "    pass\n",
        "\n",
        "  def evaluate(self, X):\n",
        "    return self.model.predict(X)"
      ],
      "execution_count": 0,
      "outputs": []
    },
    {
      "cell_type": "code",
      "metadata": {
        "id": "oVP_Hggt0Ghf",
        "colab_type": "code",
        "colab": {}
      },
      "source": [
        "# class CBNN(image_compression):\n",
        "#   def __init__(self, X, Y, noise = 0, compression_factor = 0.5, in_shape=(32,32,3), model_name=None):\n",
        "#     assert(noise >= 0)\n",
        "#     assert(0 < compression_factor and compression_factor <= 1)\n",
        "#     self.noise = noise\n",
        "#     self.compression_factor = compression_factor\n",
        "#     self.bottle_neck = int(compression_factor * X.shape[1] * X.shape[2])\n",
        "\n",
        "#     self.model = Sequential()\n",
        "#     self.model.add(Conv2D(64, kernel_size=3, strides=1, padding='same', activation='relu', input_shape=in_shape))\n",
        "#     self.model.add(BatchNormalization())     # 32x32x32\n",
        "#     self.model.add(Conv2D(32, kernel_size=3, strides=2, padding='same', activation='relu'))      # 16x16x32 =2\n",
        "#     self.model.add(Dense(self.bottle_neck, activation = 'relu'))\n",
        "#     self.model.add(BatchNormalization())     # 8x8x32\n",
        "#     self.model.add(UpSampling2D())\n",
        "#     self.model.add(BatchNormalization())     # 16x16x32\n",
        "#     self.model.add(UpSampling2D())\n",
        "#     self.model.add(Conv2D(32, kernel_size=3, strides=1, padding='same', activation='relu'))      # 32x32x32\n",
        "#     self.model.add(BatchNormalization())\n",
        "#     self.model.add(Conv2D(3,  kernel_size=1, strides=1, padding='same', activation='sigmoid'))   # 32x32x3\n",
        "\n",
        "\n",
        "#     self.model.compile(optimizer='adam', metrics=['accuracy'], loss='mean_squared_error')\n",
        "#     self.model.summary()\n",
        "#     if model_name is not None:\n",
        "#       try:\n",
        "#         f = open(model_name)      \n",
        "#         f.close()\n",
        "#         self.load_model(model_name)\n",
        "#       except IOError:\n",
        "#         self.fit(X, Y, model_name)\n",
        "#     else:\n",
        "#       self.fit(X, Y, model_name)\n",
        "\n",
        "  \n",
        "#   def fit(self, X, Y, model_name):\n",
        "#     num_epochs = 5\n",
        "#     # noise = 0.2     # Set to 0 for a regular (non-denoising...) autoencoder\n",
        "#     for i in range(num_epochs):\n",
        "#       if (self.noise != 0):\n",
        "#         noisy_X = X + np.random.normal(0, self.noise, X.shape)\n",
        "#         self.model.fit(noisy_X, X, epochs=1, batch_size=128)\n",
        "#       else:\n",
        "#         self.model.fit(X, X, epochs=1, batch_size=128)\n",
        "    \n",
        "#     self.model.save(model_name)\n",
        "\n",
        "#   def load_model(self, model_name):\n",
        "#     self.model.load_weights(model_name)\n",
        "\n",
        "#   def compress(self, X):\n",
        "#     pass\n",
        "\n",
        "#   def decompress(self, X):\n",
        "#     pass\n",
        "\n",
        "#   def evaluate(self, X):\n",
        "#     return self.model.predict(X)"
      ],
      "execution_count": 0,
      "outputs": []
    },
    {
      "cell_type": "code",
      "metadata": {
        "id": "QC_ox4G3PPxx",
        "colab_type": "code",
        "outputId": "92ad5129-313b-4518-878d-99432e80d3b8",
        "colab": {
          "base_uri": "https://localhost:8080/",
          "height": 802
        }
      },
      "source": [
        "# if()\n",
        "c_model = models.Sequential()\n",
        "\n",
        "c_model = models.Sequential()\n",
        "c_model.add(layers.Conv2D(32, (3, 3), activation='relu', input_shape=(32, 32, 3)))\n",
        "c_model.add(layers.MaxPooling2D((2, 2)))\n",
        "c_model.add(layers.Conv2D(64, (3, 3), activation='relu'))\n",
        "c_model.add(layers.MaxPooling2D((2, 2)))\n",
        "c_model.add(layers.Conv2D(64, (3, 3), activation='relu'))\n",
        "c_model.add(layers.Flatten())\n",
        "c_model.add(layers.Dense(64, activation='relu'))\n",
        "c_model.add(layers.Dense(10, activation='softmax'))\n",
        "c_model.summary()\n",
        "\n",
        "\n",
        "c_model.compile(optimizer='adam',\n",
        "                loss='sparse_categorical_crossentropy',\n",
        "                metrics=['accuracy'])\n",
        "history = c_model.fit(x_train, train_labels, epochs=10, \n",
        "                      validation_data=(x_test, test_labels))\n",
        "c_model.save(\"YOO.h5\")\n",
        "c_model.load_weights(\"YOO.h5\")"
      ],
      "execution_count": 31,
      "outputs": [
        {
          "output_type": "stream",
          "text": [
            "Model: \"sequential_7\"\n",
            "_________________________________________________________________\n",
            "Layer (type)                 Output Shape              Param #   \n",
            "=================================================================\n",
            "conv2d_27 (Conv2D)           (None, 30, 30, 32)        896       \n",
            "_________________________________________________________________\n",
            "max_pooling2d_2 (MaxPooling2 (None, 15, 15, 32)        0         \n",
            "_________________________________________________________________\n",
            "conv2d_28 (Conv2D)           (None, 13, 13, 64)        18496     \n",
            "_________________________________________________________________\n",
            "max_pooling2d_3 (MaxPooling2 (None, 6, 6, 64)          0         \n",
            "_________________________________________________________________\n",
            "conv2d_29 (Conv2D)           (None, 4, 4, 64)          36928     \n",
            "_________________________________________________________________\n",
            "flatten_1 (Flatten)          (None, 1024)              0         \n",
            "_________________________________________________________________\n",
            "dense_2 (Dense)              (None, 64)                65600     \n",
            "_________________________________________________________________\n",
            "dense_3 (Dense)              (None, 10)                650       \n",
            "=================================================================\n",
            "Total params: 122,570\n",
            "Trainable params: 122,570\n",
            "Non-trainable params: 0\n",
            "_________________________________________________________________\n",
            "Train on 50000 samples, validate on 10000 samples\n",
            "Epoch 1/10\n",
            "50000/50000 [==============================] - 7s 148us/sample - loss: 1.5470 - acc: 0.4371 - val_loss: 1.2711 - val_acc: 0.5428\n",
            "Epoch 2/10\n",
            "50000/50000 [==============================] - 7s 138us/sample - loss: 1.1778 - acc: 0.5824 - val_loss: 1.1066 - val_acc: 0.6081\n",
            "Epoch 3/10\n",
            "50000/50000 [==============================] - 7s 141us/sample - loss: 1.0366 - acc: 0.6352 - val_loss: 1.0210 - val_acc: 0.6430\n",
            "Epoch 4/10\n",
            "50000/50000 [==============================] - 7s 140us/sample - loss: 0.9435 - acc: 0.6693 - val_loss: 0.9580 - val_acc: 0.6636\n",
            "Epoch 5/10\n",
            "50000/50000 [==============================] - 7s 141us/sample - loss: 0.8676 - acc: 0.6955 - val_loss: 0.9579 - val_acc: 0.6679\n",
            "Epoch 6/10\n",
            "50000/50000 [==============================] - 7s 141us/sample - loss: 0.8110 - acc: 0.7177 - val_loss: 0.8884 - val_acc: 0.6920\n",
            "Epoch 7/10\n",
            "50000/50000 [==============================] - 7s 139us/sample - loss: 0.7596 - acc: 0.7347 - val_loss: 0.8855 - val_acc: 0.6930\n",
            "Epoch 8/10\n",
            "50000/50000 [==============================] - 7s 143us/sample - loss: 0.7197 - acc: 0.7503 - val_loss: 0.9212 - val_acc: 0.6922\n",
            "Epoch 9/10\n",
            "50000/50000 [==============================] - 7s 142us/sample - loss: 0.6790 - acc: 0.7637 - val_loss: 0.8588 - val_acc: 0.7057\n",
            "Epoch 10/10\n",
            "50000/50000 [==============================] - 7s 145us/sample - loss: 0.6493 - acc: 0.7738 - val_loss: 0.8923 - val_acc: 0.6973\n"
          ],
          "name": "stdout"
        }
      ]
    },
    {
      "cell_type": "code",
      "metadata": {
        "id": "kyIuNpTfsB9p",
        "colab_type": "code",
        "colab": {
          "base_uri": "https://localhost:8080/",
          "height": 561
        },
        "outputId": "dcbb9747-8020-4398-861f-3df091b96349"
      },
      "source": [
        "noise = 0\n",
        "test = ConvNetCompression8810(x_train, x_train, noise = noise, model_name = \"8810_noise_\" + str(noise) + \".h5\")"
      ],
      "execution_count": 32,
      "outputs": [
        {
          "output_type": "stream",
          "text": [
            "Model: \"sequential_8\"\n",
            "_________________________________________________________________\n",
            "Layer (type)                 Output Shape              Param #   \n",
            "=================================================================\n",
            "conv2d_30 (Conv2D)           (None, 32, 32, 32)        896       \n",
            "_________________________________________________________________\n",
            "batch_normalization_16 (Batc (None, 32, 32, 32)        128       \n",
            "_________________________________________________________________\n",
            "conv2d_31 (Conv2D)           (None, 16, 16, 32)        9248      \n",
            "_________________________________________________________________\n",
            "conv2d_32 (Conv2D)           (None, 16, 16, 10)        2890      \n",
            "_________________________________________________________________\n",
            "conv2d_33 (Conv2D)           (None, 8, 8, 10)          910       \n",
            "_________________________________________________________________\n",
            "batch_normalization_17 (Batc (None, 8, 8, 10)          40        \n",
            "_________________________________________________________________\n",
            "up_sampling2d_8 (UpSampling2 (None, 16, 16, 10)        0         \n",
            "_________________________________________________________________\n",
            "batch_normalization_18 (Batc (None, 16, 16, 10)        40        \n",
            "_________________________________________________________________\n",
            "up_sampling2d_9 (UpSampling2 (None, 32, 32, 10)        0         \n",
            "_________________________________________________________________\n",
            "conv2d_34 (Conv2D)           (None, 32, 32, 32)        2912      \n",
            "_________________________________________________________________\n",
            "batch_normalization_19 (Batc (None, 32, 32, 32)        128       \n",
            "_________________________________________________________________\n",
            "conv2d_35 (Conv2D)           (None, 32, 32, 3)         99        \n",
            "=================================================================\n",
            "Total params: 17,291\n",
            "Trainable params: 17,123\n",
            "Non-trainable params: 168\n",
            "_________________________________________________________________\n"
          ],
          "name": "stdout"
        }
      ]
    },
    {
      "cell_type": "code",
      "metadata": {
        "id": "LxcUfTOOIni0",
        "colab_type": "code",
        "colab": {
          "base_uri": "https://localhost:8080/",
          "height": 561
        },
        "outputId": "23451731-6a6f-4a95-b845-d2415d629cee"
      },
      "source": [
        "noise = 0.2\n",
        "test_8810_noise = ConvNetCompression8810(x_train, x_train, noise = noise,  model_name = \"8810_noise_\" + str(noise) + \".h5\")"
      ],
      "execution_count": 33,
      "outputs": [
        {
          "output_type": "stream",
          "text": [
            "Model: \"sequential_9\"\n",
            "_________________________________________________________________\n",
            "Layer (type)                 Output Shape              Param #   \n",
            "=================================================================\n",
            "conv2d_36 (Conv2D)           (None, 32, 32, 32)        896       \n",
            "_________________________________________________________________\n",
            "batch_normalization_20 (Batc (None, 32, 32, 32)        128       \n",
            "_________________________________________________________________\n",
            "conv2d_37 (Conv2D)           (None, 16, 16, 32)        9248      \n",
            "_________________________________________________________________\n",
            "conv2d_38 (Conv2D)           (None, 16, 16, 10)        2890      \n",
            "_________________________________________________________________\n",
            "conv2d_39 (Conv2D)           (None, 8, 8, 10)          910       \n",
            "_________________________________________________________________\n",
            "batch_normalization_21 (Batc (None, 8, 8, 10)          40        \n",
            "_________________________________________________________________\n",
            "up_sampling2d_10 (UpSampling (None, 16, 16, 10)        0         \n",
            "_________________________________________________________________\n",
            "batch_normalization_22 (Batc (None, 16, 16, 10)        40        \n",
            "_________________________________________________________________\n",
            "up_sampling2d_11 (UpSampling (None, 32, 32, 10)        0         \n",
            "_________________________________________________________________\n",
            "conv2d_40 (Conv2D)           (None, 32, 32, 32)        2912      \n",
            "_________________________________________________________________\n",
            "batch_normalization_23 (Batc (None, 32, 32, 32)        128       \n",
            "_________________________________________________________________\n",
            "conv2d_41 (Conv2D)           (None, 32, 32, 3)         99        \n",
            "=================================================================\n",
            "Total params: 17,291\n",
            "Trainable params: 17,123\n",
            "Non-trainable params: 168\n",
            "_________________________________________________________________\n"
          ],
          "name": "stdout"
        }
      ]
    },
    {
      "cell_type": "code",
      "metadata": {
        "id": "7UHElK0qKZVg",
        "colab_type": "code",
        "colab": {
          "base_uri": "https://localhost:8080/",
          "height": 561
        },
        "outputId": "f12109e1-d040-4e5b-e675-009f85384a10"
      },
      "source": [
        "noise = 0\n",
        "test2 = ConvNetCompression8816(x_train, x_train, noise = noise, model_name = \"8816_noise_\" + str(noise) + \".h5\")"
      ],
      "execution_count": 34,
      "outputs": [
        {
          "output_type": "stream",
          "text": [
            "Model: \"sequential_10\"\n",
            "_________________________________________________________________\n",
            "Layer (type)                 Output Shape              Param #   \n",
            "=================================================================\n",
            "conv2d_42 (Conv2D)           (None, 32, 32, 32)        896       \n",
            "_________________________________________________________________\n",
            "batch_normalization_24 (Batc (None, 32, 32, 32)        128       \n",
            "_________________________________________________________________\n",
            "conv2d_43 (Conv2D)           (None, 16, 16, 32)        9248      \n",
            "_________________________________________________________________\n",
            "conv2d_44 (Conv2D)           (None, 16, 16, 16)        4624      \n",
            "_________________________________________________________________\n",
            "conv2d_45 (Conv2D)           (None, 8, 8, 16)          2320      \n",
            "_________________________________________________________________\n",
            "batch_normalization_25 (Batc (None, 8, 8, 16)          64        \n",
            "_________________________________________________________________\n",
            "up_sampling2d_12 (UpSampling (None, 16, 16, 16)        0         \n",
            "_________________________________________________________________\n",
            "batch_normalization_26 (Batc (None, 16, 16, 16)        64        \n",
            "_________________________________________________________________\n",
            "up_sampling2d_13 (UpSampling (None, 32, 32, 16)        0         \n",
            "_________________________________________________________________\n",
            "conv2d_46 (Conv2D)           (None, 32, 32, 32)        4640      \n",
            "_________________________________________________________________\n",
            "batch_normalization_27 (Batc (None, 32, 32, 32)        128       \n",
            "_________________________________________________________________\n",
            "conv2d_47 (Conv2D)           (None, 32, 32, 3)         99        \n",
            "=================================================================\n",
            "Total params: 22,211\n",
            "Trainable params: 22,019\n",
            "Non-trainable params: 192\n",
            "_________________________________________________________________\n"
          ],
          "name": "stdout"
        }
      ]
    },
    {
      "cell_type": "code",
      "metadata": {
        "id": "vNEWxJZrN34m",
        "colab_type": "code",
        "colab": {
          "base_uri": "https://localhost:8080/",
          "height": 561
        },
        "outputId": "9039b113-6e9a-49bc-bf3e-1830c8efd06d"
      },
      "source": [
        "noise = 0.2\n",
        "test_8816_noise = ConvNetCompression8816(x_train, x_train, noise = noise, model_name = \"8816_noise_\" + str(noise) + \".h5\")"
      ],
      "execution_count": 35,
      "outputs": [
        {
          "output_type": "stream",
          "text": [
            "Model: \"sequential_11\"\n",
            "_________________________________________________________________\n",
            "Layer (type)                 Output Shape              Param #   \n",
            "=================================================================\n",
            "conv2d_48 (Conv2D)           (None, 32, 32, 32)        896       \n",
            "_________________________________________________________________\n",
            "batch_normalization_28 (Batc (None, 32, 32, 32)        128       \n",
            "_________________________________________________________________\n",
            "conv2d_49 (Conv2D)           (None, 16, 16, 32)        9248      \n",
            "_________________________________________________________________\n",
            "conv2d_50 (Conv2D)           (None, 16, 16, 16)        4624      \n",
            "_________________________________________________________________\n",
            "conv2d_51 (Conv2D)           (None, 8, 8, 16)          2320      \n",
            "_________________________________________________________________\n",
            "batch_normalization_29 (Batc (None, 8, 8, 16)          64        \n",
            "_________________________________________________________________\n",
            "up_sampling2d_14 (UpSampling (None, 16, 16, 16)        0         \n",
            "_________________________________________________________________\n",
            "batch_normalization_30 (Batc (None, 16, 16, 16)        64        \n",
            "_________________________________________________________________\n",
            "up_sampling2d_15 (UpSampling (None, 32, 32, 16)        0         \n",
            "_________________________________________________________________\n",
            "conv2d_52 (Conv2D)           (None, 32, 32, 32)        4640      \n",
            "_________________________________________________________________\n",
            "batch_normalization_31 (Batc (None, 32, 32, 32)        128       \n",
            "_________________________________________________________________\n",
            "conv2d_53 (Conv2D)           (None, 32, 32, 3)         99        \n",
            "=================================================================\n",
            "Total params: 22,211\n",
            "Trainable params: 22,019\n",
            "Non-trainable params: 192\n",
            "_________________________________________________________________\n"
          ],
          "name": "stdout"
        }
      ]
    },
    {
      "cell_type": "code",
      "metadata": {
        "id": "7NL2uQXUIj8u",
        "colab_type": "code",
        "colab": {}
      },
      "source": [
        ""
      ],
      "execution_count": 0,
      "outputs": []
    },
    {
      "cell_type": "code",
      "metadata": {
        "id": "dUDU3vG7FEpK",
        "colab_type": "code",
        "colab": {
          "base_uri": "https://localhost:8080/",
          "height": 85
        },
        "outputId": "72f1c42c-43c4-4bdb-9ac9-7019f81daa9f"
      },
      "source": [
        "test3 = PCA_compression(0.98)\n",
        "test4 = PCA_compression(0.98)\n",
        "sample_noise = 0.2\n",
        "z = x_train + np.random.normal(0, sample_noise, x_train.shape)\n",
        "# z = x_train\n",
        "test3.fit(z)\n",
        "test4.fit(x_train)"
      ],
      "execution_count": 36,
      "outputs": [
        {
          "output_type": "stream",
          "text": [
            "Training...\n",
            "Elapsed Time: 120.59754848480225\n",
            "Training...\n",
            "Elapsed Time: 116.74145078659058\n"
          ],
          "name": "stdout"
        }
      ]
    },
    {
      "cell_type": "code",
      "metadata": {
        "id": "vmTxhANKrPA3",
        "colab_type": "code",
        "colab": {}
      },
      "source": [
        ""
      ],
      "execution_count": 0,
      "outputs": []
    },
    {
      "cell_type": "code",
      "metadata": {
        "id": "Ac1NLSJL8T2e",
        "colab_type": "code",
        "colab": {}
      },
      "source": [
        "\n",
        "# accs_o = []\n",
        "# accs_8810 = []\n",
        "# accs_8816 = []\n",
        "# accs_pca = []\n",
        "# noises = [0.0, 0.05, 0.1, 0.15, 0.2, 0.25, 0.3]\n",
        "# for NOISE in noises:\n",
        "#   print(\"Using Noise of:\", NOISE)\n",
        "#   noise = np.random.normal(0, NOISE, x_test.shape)\n",
        "#   sample = x_test + noise\n",
        "\n",
        "#   results = test.evaluate(sample)\n",
        "#   results2 = test2.evaluate(sample)  # 2\n",
        "#   results3 = test3.evaluate(sample)\n",
        "\n",
        "#   test_loss_o, test_acc_o = c_model.evaluate(sample,  test_labels, verbose=2)\n",
        "  \n",
        "#   test_loss, test_acc_8810 = c_model.evaluate(results,  test_labels, verbose=2)\n",
        "#   test_loss_pca, test_acc_8816 = c_model.evaluate(results2,  test_labels, verbose=2)\n",
        "#   test_loss_pca, test_acc_pca = c_model.evaluate(results3,  test_labels, verbose=2)\n",
        "\n",
        "  \n",
        "#   accs_o.append(test_acc_o)\n",
        "\n",
        "#   accs_8810.append(test_acc_8810)\n",
        "#   accs_8816.append(test_acc_8816)\n",
        "#   accs_pca.append(test_acc_pca)\n",
        "#   print()"
      ],
      "execution_count": 0,
      "outputs": []
    },
    {
      "cell_type": "code",
      "metadata": {
        "id": "jYWprsQejPbQ",
        "colab_type": "code",
        "colab": {}
      },
      "source": [
        "\n",
        "# plt.plot(noises,accs_o, label = \"Original\")\n",
        "# plt.plot(noises,accs_8810, label = \"8810\")\n",
        "# plt.plot(noises, accs_8816, label = \"8816\")\n",
        "# plt.plot(noises, accs_pca, label = \"PCA_0.98\")\n",
        "# plt.legend()\n",
        "# plt.show()"
      ],
      "execution_count": 0,
      "outputs": []
    },
    {
      "cell_type": "code",
      "metadata": {
        "id": "NyJOiKaZqVwK",
        "colab_type": "code",
        "colab": {}
      },
      "source": [
        "# plt.plot(noises,accs_o, label = \"Original\")\n",
        "# plt.plot(noises,accs_8810, label = \"8810\")\n",
        "# plt.plot(noises, accs_8816, label = \"8816\")\n",
        "# plt.plot(noises, accs_pca, label = \"PCA_0.98\")\n",
        "# plt.legend()\n",
        "# plt.show()"
      ],
      "execution_count": 0,
      "outputs": []
    },
    {
      "cell_type": "code",
      "metadata": {
        "id": "TnLr5g1zvBFp",
        "colab_type": "code",
        "colab": {
          "base_uri": "https://localhost:8080/",
          "height": 1000
        },
        "outputId": "5fdf7758-c0dc-4cad-b122-66b96d918fa9"
      },
      "source": [
        "def compare_models(models, noises):\n",
        "  accurracies = {}\n",
        "\n",
        "  for k, v in models.items():\n",
        "    accurracies[k] = [] \n",
        "  \n",
        "  accurracies[\"Original\"] = []\n",
        "\n",
        "  for NOISE in noises:\n",
        "    print(\"Using Noise of:\", NOISE)\n",
        "    noise = np.random.normal(0, NOISE, x_test.shape)\n",
        "    sample = x_test + noise\n",
        "\n",
        "    for k, model in models.items():\n",
        "      result = model.evaluate(sample)\n",
        "      accurracies[k].append(c_model.evaluate(result, test_labels, verbose=2)[1])\n",
        "\n",
        "    accurracies[\"Original\"].append(c_model.evaluate(sample, test_labels, verbose=2)[1])\n",
        "\n",
        "\n",
        "  return accurracies\n",
        "\n",
        "noises = [0.0, 0.05, 0.1, 0.15, 0.2, 0.25, 0.3]\n",
        "model_names = [\"8810\", \"8816\", \"PCA_0.98_N=0.2\", \"PCA_0.98_N=0\", \"Resize_compression_0.8\", \"8810_N=0.2\", \"8816_N=0.2\"]\n",
        "models_list = [test, test2, test3, test4, Resize_compression(0.8), test_8810_noise, test_8816_noise]\n",
        "m = dict(zip(model_names, models_list))\n",
        "# print(m)\n",
        "accuracies = compare_models(m, noises)"
      ],
      "execution_count": 40,
      "outputs": [
        {
          "output_type": "stream",
          "text": [
            "Using Noise of: 0.0\n",
            "10000/10000 - 1s - loss: 1.0806 - acc: 0.6247\n",
            "10000/10000 - 1s - loss: 1.0580 - acc: 0.6338\n",
            "10000/10000 - 1s - loss: 0.8917 - acc: 0.6984\n",
            "10000/10000 - 1s - loss: 0.9291 - acc: 0.6836\n",
            "10000/10000 - 1s - loss: 0.9848 - acc: 0.6564\n",
            "10000/10000 - 1s - loss: 1.3532 - acc: 0.5363\n",
            "10000/10000 - 1s - loss: 1.3282 - acc: 0.5486\n",
            "10000/10000 - 1s - loss: 0.8923 - acc: 0.6973\n",
            "Using Noise of: 0.05\n",
            "10000/10000 - 1s - loss: 1.0977 - acc: 0.6151\n",
            "10000/10000 - 1s - loss: 1.0777 - acc: 0.6259\n",
            "10000/10000 - 1s - loss: 1.0215 - acc: 0.6564\n",
            "10000/10000 - 1s - loss: 0.9639 - acc: 0.6706\n",
            "10000/10000 - 1s - loss: 0.9936 - acc: 0.6515\n",
            "10000/10000 - 1s - loss: 1.3489 - acc: 0.5371\n",
            "10000/10000 - 1s - loss: 1.3183 - acc: 0.5496\n",
            "10000/10000 - 1s - loss: 1.0306 - acc: 0.6559\n",
            "Using Noise of: 0.1\n",
            "10000/10000 - 1s - loss: 1.1825 - acc: 0.5858\n",
            "10000/10000 - 1s - loss: 1.1639 - acc: 0.5961\n",
            "10000/10000 - 1s - loss: 1.5198 - acc: 0.5337\n",
            "10000/10000 - 1s - loss: 1.1096 - acc: 0.6276\n",
            "10000/10000 - 1s - loss: 1.0636 - acc: 0.6274\n",
            "10000/10000 - 1s - loss: 1.3374 - acc: 0.5352\n",
            "10000/10000 - 1s - loss: 1.3065 - acc: 0.5478\n",
            "10000/10000 - 1s - loss: 1.5585 - acc: 0.5278\n",
            "Using Noise of: 0.15\n",
            "10000/10000 - 1s - loss: 1.3454 - acc: 0.5393\n",
            "10000/10000 - 1s - loss: 1.3506 - acc: 0.5466\n",
            "10000/10000 - 1s - loss: 2.3290 - acc: 0.3938\n",
            "10000/10000 - 1s - loss: 1.3704 - acc: 0.5600\n",
            "10000/10000 - 1s - loss: 1.2488 - acc: 0.5678\n",
            "10000/10000 - 1s - loss: 1.3224 - acc: 0.5399\n",
            "10000/10000 - 1s - loss: 1.2797 - acc: 0.5569\n",
            "10000/10000 - 1s - loss: 2.3969 - acc: 0.3889\n",
            "Using Noise of: 0.2\n",
            "10000/10000 - 1s - loss: 1.5905 - acc: 0.4785\n",
            "10000/10000 - 1s - loss: 1.6179 - acc: 0.4707\n",
            "10000/10000 - 1s - loss: 3.1787 - acc: 0.3025\n",
            "10000/10000 - 1s - loss: 1.7253 - acc: 0.4877\n",
            "10000/10000 - 1s - loss: 1.5416 - acc: 0.4859\n",
            "10000/10000 - 1s - loss: 1.3325 - acc: 0.5363\n",
            "10000/10000 - 1s - loss: 1.2889 - acc: 0.5539\n",
            "10000/10000 - 1s - loss: 3.2776 - acc: 0.2958\n",
            "Using Noise of: 0.25\n",
            "10000/10000 - 1s - loss: 1.8409 - acc: 0.4220\n",
            "10000/10000 - 1s - loss: 1.9473 - acc: 0.4103\n",
            "10000/10000 - 1s - loss: 4.0807 - acc: 0.2479\n",
            "10000/10000 - 1s - loss: 2.1195 - acc: 0.4241\n",
            "10000/10000 - 1s - loss: 1.9172 - acc: 0.4095\n",
            "10000/10000 - 1s - loss: 1.3520 - acc: 0.5302\n",
            "10000/10000 - 1s - loss: 1.3105 - acc: 0.5457\n",
            "10000/10000 - 1s - loss: 4.2012 - acc: 0.2395\n",
            "Using Noise of: 0.3\n",
            "10000/10000 - 1s - loss: 2.1653 - acc: 0.3668\n",
            "10000/10000 - 1s - loss: 2.4376 - acc: 0.3411\n",
            "10000/10000 - 1s - loss: 4.9611 - acc: 0.2058\n",
            "10000/10000 - 1s - loss: 2.5732 - acc: 0.3595\n",
            "10000/10000 - 1s - loss: 2.3650 - acc: 0.3328\n",
            "10000/10000 - 1s - loss: 1.4365 - acc: 0.5071\n",
            "10000/10000 - 1s - loss: 1.4154 - acc: 0.5196\n",
            "10000/10000 - 1s - loss: 5.1065 - acc: 0.2018\n"
          ],
          "name": "stdout"
        }
      ]
    },
    {
      "cell_type": "code",
      "metadata": {
        "id": "iklDcaqS2yZP",
        "colab_type": "code",
        "colab": {
          "base_uri": "https://localhost:8080/",
          "height": 431
        },
        "outputId": "e4abed06-1c02-424a-b38b-689d638c91f0"
      },
      "source": [
        "def plot_models(accs, noises):\n",
        "  for k, v in accs.items():\n",
        "    print(k, v)\n",
        "    plt.plot(noises, v, label = k)\n",
        "    \n",
        "  plt.xlabel(\"Standard Deviation of Noise with Mean 0\")\n",
        "  plt.ylabel(\"Model Accuracy\")\n",
        "  plt.title(\"Noise vs Accuracy for Compression Models\")\n",
        "  plt.legend()\n",
        "  plt.savefig(\"noise_vs_model_acurracy.png\")\n",
        "  plt.show()\n",
        "\n",
        "plot_models(accuracies, noises)"
      ],
      "execution_count": 41,
      "outputs": [
        {
          "output_type": "stream",
          "text": [
            "8810 [0.6247, 0.6151, 0.5858, 0.5393, 0.4785, 0.422, 0.3668]\n",
            "8816 [0.6338, 0.6259, 0.5961, 0.5466, 0.4707, 0.4103, 0.3411]\n",
            "PCA_0.98_N=0.2 [0.6984, 0.6564, 0.5337, 0.3938, 0.3025, 0.2479, 0.2058]\n",
            "PCA_0.98_N=0 [0.6836, 0.6706, 0.6276, 0.56, 0.4877, 0.4241, 0.3595]\n",
            "Resize_compression_0.8 [0.6564, 0.6515, 0.6274, 0.5678, 0.4859, 0.4095, 0.3328]\n",
            "8810_N=0.2 [0.5363, 0.5371, 0.5352, 0.5399, 0.5363, 0.5302, 0.5071]\n",
            "8816_N=0.2 [0.5486, 0.5496, 0.5478, 0.5569, 0.5539, 0.5457, 0.5196]\n",
            "Original [0.6973, 0.6559, 0.5278, 0.3889, 0.2958, 0.2395, 0.2018]\n"
          ],
          "name": "stdout"
        },
        {
          "output_type": "display_data",
          "data": {
            "image/png": "[encoded data removed]",
            "text/plain": [
              "<Figure size 432x288 with 1 Axes>"
            ]
          },
          "metadata": {
            "tags": []
          }
        }
      ]
    },
    {
      "cell_type": "code",
      "metadata": {
        "id": "aLCZ-OxuEHMv",
        "colab_type": "code",
        "colab": {
          "base_uri": "https://localhost:8080/",
          "height": 295
        },
        "outputId": "a72f2f73-0aa4-4cc7-81d2-abbc6c87350e"
      },
      "source": [
        "# for k, v in m.items():\n",
        "#   print(v.compression)\n",
        "\n",
        "\n",
        "def graph_compressions(models):\n",
        "  names = []\n",
        "  comps = []\n",
        "  for k, v in m.items():\n",
        "    comps.append(v.compression)\n",
        "    names.append(k)\n",
        "\n",
        "  \n",
        "  y_pos = np.arange(len(names))\n",
        "  \n",
        "\n",
        "  barlist = plt.barh(y_pos, comps, align='center', alpha=1)\n",
        "  color_list = ['b', 'g', 'r', 'c', 'm', 'k']\n",
        "  for i in range(0, len(barlist)):\n",
        "    barlist[i].set_color(color_list[i % len(color_list)])\n",
        "\n",
        "  plt.yticks(y_pos, names)\n",
        "  plt.xlabel('Compression Ratio')\n",
        "  plt.title('Compression Ratio for Different Algorithms')\n",
        "  plt.show()\n",
        "\n",
        "graph_compressions(m)"
      ],
      "execution_count": 56,
      "outputs": [
        {
          "output_type": "display_data",
          "data": {
            "image/png": "[encoded data removed]",
            "text/plain": [
              "<Figure size 432x288 with 1 Axes>"
            ]
          },
          "metadata": {
            "tags": []
          }
        }
      ]
    },
    {
      "cell_type": "code",
      "metadata": {
        "id": "6RFRfM8PETaD",
        "colab_type": "code",
        "colab": {
          "base_uri": "https://localhost:8080/",
          "height": 255
        },
        "outputId": "b5b9bd81-f11f-4b82-9879-0234b6cdafbc"
      },
      "source": [
        "def time_to_evaluate(models, images):\n",
        "  num_images = images.shape[0]\n",
        "  times = {}\n",
        "  for k, v in models.items():\n",
        "    print(\"Timing \" + k + \"...\")\n",
        "    start = time.time()\n",
        "    v.evaluate(images)\n",
        "    end = time.time()\n",
        "    times[k] = 1000 * (end - start) / num_images\n",
        "\n",
        "\n",
        "  return times\n",
        "\n",
        "\n",
        "times = time_to_evaluate(m, x_test)\n",
        "for k, v in times.items():\n",
        "  print(k, \":\", v)\n",
        "\n",
        "\n",
        "\n"
      ],
      "execution_count": 61,
      "outputs": [
        {
          "output_type": "stream",
          "text": [
            "Timing 8810...\n",
            "Timing 8816...\n",
            "Timing PCA_0.98_N=0.2...\n",
            "Timing PCA_0.98_N=0...\n",
            "Timing Resize_compression_0.8...\n",
            "Timing 8810_N=0.2...\n",
            "Timing 8816_N=0.2...\n",
            "8810 : 0.08133769035339355\n",
            "8816 : 0.07902534008026123\n",
            "PCA_0.98_N=0.2 : 0.8880181312561035\n",
            "PCA_0.98_N=0 : 0.17361345291137695\n",
            "Resize_compression_0.8 : 2.302498292922974\n",
            "8810_N=0.2 : 0.08335337638854981\n",
            "8816_N=0.2 : 0.08355581760406494\n"
          ],
          "name": "stdout"
        }
      ]
    },
    {
      "cell_type": "code",
      "metadata": {
        "id": "_e0HK-SFGOBM",
        "colab_type": "code",
        "colab": {
          "base_uri": "https://localhost:8080/",
          "height": 295
        },
        "outputId": "af93807a-b8dc-44d6-ddc3-fea06f7ebf7c"
      },
      "source": [
        "def graph_times(times):\n",
        " \n",
        "  y_pos = np.arange(len(times))\n",
        "  \n",
        "\n",
        "  barlist = plt.barh(y_pos, times.values(), align='center', alpha=1)\n",
        "  color_list = ['b', 'g', 'r', 'c', 'm', 'k']\n",
        "  for i in range(0, len(barlist)):\n",
        "    barlist[i].set_color(color_list[i % len(color_list)])\n",
        "\n",
        "  plt.yticks(y_pos, times.keys())\n",
        "  plt.xlabel('Time to Evaluate (Milliseconds)')\n",
        "  plt.title('Time to Evaluate for Different Compression Algorithms')\n",
        "  plt.show()\n",
        "\n",
        "\n",
        "graph_times(times)\n",
        "\n"
      ],
      "execution_count": 62,
      "outputs": [
        {
          "output_type": "display_data",
          "data": {
            "image/png": "[encoded data removed]",
            "text/plain": [
              "<Figure size 432x288 with 1 Axes>"
            ]
          },
          "metadata": {
            "tags": []
          }
        }
      ]
    },
    {
      "cell_type": "code",
      "metadata": {
        "id": "DJCS7zUBHaPt",
        "colab_type": "code",
        "colab": {
          "base_uri": "https://localhost:8080/",
          "height": 51
        },
        "outputId": "85aa258f-5593-4cec-83a9-1b40620c9179"
      },
      "source": [
        "print((times[\"PCA_0.98_N=0\"]/ times[\"PCA_0.98_N=0.2\"]) ** - 1)\n",
        "print(m[\"PCA_0.98_N=0\"].compression/ m[\"PCA_0.98_N=0.2\"].compression)"
      ],
      "execution_count": 65,
      "outputs": [
        {
          "output_type": "stream",
          "text": [
            "5.114915442119586\n",
            "6.382882882882883\n"
          ],
          "name": "stdout"
        }
      ]
    }
  ]
}
